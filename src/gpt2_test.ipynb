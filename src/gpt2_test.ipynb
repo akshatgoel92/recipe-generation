{
 "cells": [
  {
   "cell_type": "code",
   "execution_count": 32,
   "metadata": {},
   "outputs": [],
   "source": [
    "# Import packages\n",
    "import numpy as np\n",
    "from transformers import pipeline\n",
    "from transformers import AutoTokenizer, AutoModelForSequenceClassification\n",
    "from transformers import AutoTokenizer, AutoModelWithLMHead"
   ]
  },
  {
   "cell_type": "code",
   "execution_count": 47,
   "metadata": {},
   "outputs": [],
   "source": [
    "def gen_recipe(query, model_name = \"mbien/recipenlg\"):\n",
    "    '''\n",
    "    Generate recipe text\n",
    "    from fine-tuned GPT-2\n",
    "    model of Bien et al.\n",
    "    ----------------\n",
    "    Input: Model name\n",
    "    Output: Recipe text\n",
    "    '''\n",
    "    # Create tokenizer\n",
    "    tokenizer = AutoTokenizer.from_pretrained(model_name)\n",
    "    \n",
    "    model = AutoModelWithLMHead.from_pretrained(model_name)\n",
    "    \n",
    "    generator = pipeline('text-generation', model=model, tokenizer=tokenizer)\n",
    "    \n",
    "    result = generator(query)\n",
    "    \n",
    "    return(result)"
   ]
  },
  {
   "cell_type": "code",
   "execution_count": null,
   "metadata": {},
   "outputs": [],
   "source": [
    "query = [\"Tomata; Pasta; Chilli Flaes; Olives; Mushroom; Cheese\"]\n",
    "\n",
    "gen_recipe(query)"
   ]
  },
  {
   "cell_type": "code",
   "execution_count": null,
   "metadata": {},
   "outputs": [],
   "source": []
  }
 ],
 "metadata": {
  "kernelspec": {
   "display_name": "Python 3",
   "language": "python",
   "name": "python3"
  },
  "language_info": {
   "codemirror_mode": {
    "name": "ipython",
    "version": 3
   },
   "file_extension": ".py",
   "mimetype": "text/x-python",
   "name": "python",
   "nbconvert_exporter": "python",
   "pygments_lexer": "ipython3",
   "version": "3.8.0"
  }
 },
 "nbformat": 4,
 "nbformat_minor": 4
}
