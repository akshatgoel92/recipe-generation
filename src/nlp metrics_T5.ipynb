{
 "cells": [
  {
   "cell_type": "code",
   "execution_count": 15,
   "metadata": {
    "ExecuteTime": {
     "end_time": "2021-05-19T19:13:57.522449Z",
     "start_time": "2021-05-19T19:13:57.518474Z"
    }
   },
   "outputs": [],
   "source": [
    "import numpy as np \n",
    "import pandas as pd\n",
    "import pickle as pkl\n",
    "import nltk\n",
    "from rouge import rouge_n_sentence_level"
   ]
  },
  {
   "cell_type": "code",
   "execution_count": 16,
   "metadata": {
    "ExecuteTime": {
     "end_time": "2021-05-19T19:13:57.529096Z",
     "start_time": "2021-05-19T19:13:57.523908Z"
    }
   },
   "outputs": [
    {
     "name": "stdout",
     "output_type": "stream",
     "text": [
      "ROUGE-2-R 0.75\n",
      "ROUGE-2-P 0.6\n",
      "ROUGE-2-F 0.6666666666666665\n"
     ]
    }
   ],
   "source": [
    "### TEST CASE\n",
    "\n",
    "summary_sentence = 'the capital of China is Beijing'.split()\n",
    "reference_sentence = 'Beijing  the capital of China'.split()\n",
    "\n",
    "# Calculate ROUGE-2.\n",
    "recall, precision, rouge = rouge_n_sentence_level(summary_sentence, reference_sentence, 2)\n",
    "print('ROUGE-2-R', recall)\n",
    "print('ROUGE-2-P', precision)\n",
    "print('ROUGE-2-F', rouge)"
   ]
  },
  {
   "cell_type": "code",
   "execution_count": 17,
   "metadata": {
    "ExecuteTime": {
     "end_time": "2021-05-19T19:13:57.535628Z",
     "start_time": "2021-05-19T19:13:57.530294Z"
    }
   },
   "outputs": [],
   "source": [
    "def avg_rouge(list1,list2):\n",
    "    rouge_sum = 0\n",
    "    for i in range(len(list1)):\n",
    "        _,_,rouge = rouge_n_sentence_level(list1[i],list2[i], 2)\n",
    "        rouge_sum +=rouge\n",
    "    rouge_avg = rouge_sum/len(list1)\n",
    "    return rouge_avg\n",
    "\n",
    "def get_avg_bleu(list1,list2):\n",
    "    sumbleu = 0\n",
    "    for i in range(len(list1)):\n",
    "        hypothesis = list1[i].split(' ')\n",
    "        reference = list2[i].split(' ')\n",
    "        #the maximum is bigram, so assign the weight into 2 half.\n",
    "        BLEUscore = nltk.translate.bleu_score.sentence_bleu([reference], hypothesis, weights = (0.5, 0.5))\n",
    "        sumbleu+=BLEUscore\n",
    "    avgbleu = sumbleu/len(list1)\n",
    "    return avgbleu\n",
    "\n",
    "def get_number_of_ingredient_used(ingredient_list,text):\n",
    "    ing_count = 0\n",
    "    for ing in ingredient_list :\n",
    "        if ing in text :\n",
    "            ing_count+=1\n",
    "    ing_frac = ing_count/len(ingredient_list)\n",
    "    return ing_frac\n",
    "\n",
    "def get_number_of_ingredient_used2(ingredient_list,text):\n",
    "    ing_count = 0\n",
    "    total_words = 0\n",
    "    for ing in ingredient_list :\n",
    "        ings = ing.split(' ')\n",
    "        total_words +=len(ings) \n",
    "        for i in ings :\n",
    "            if i in text :\n",
    "                ing_count+=1\n",
    "                \n",
    "    ing_frac = ing_count/total_words\n",
    "    return ing_frac"
   ]
  },
  {
   "cell_type": "code",
   "execution_count": 26,
   "metadata": {
    "ExecuteTime": {
     "end_time": "2021-05-19T19:16:45.929186Z",
     "start_time": "2021-05-19T19:16:39.929950Z"
    }
   },
   "outputs": [
    {
     "name": "stdout",
     "output_type": "stream",
     "text": [
      "0.5814\n",
      "0.2047\n",
      "0.1876\n",
      "0.2541\n"
     ]
    }
   ],
   "source": [
    "x = pkl.load( open( \"results/masking_0.5_all_layers.pkl\", \"rb\" ) )\n",
    "\n",
    "rouge_avg = avg_rouge(x[2],x[3])\n",
    "print(np.round(rouge_avg, 4))\n",
    "bleu_avg = get_avg_bleu(x[3],x[2])\n",
    "print(np.round(bleu_avg, 4))\n",
    "\n",
    "ing_frac = [get_number_of_ingredient_used(x[1][i],x[2][i]) for i in range(len(x[1]))]\n",
    "print(np.round(sum(ing_frac)/len(ing_frac), 4))  \n",
    "\n",
    "ing_frac = [get_number_of_ingredient_used2(x[1][i],x[3][i]) for i in range(len(x[1]))]\n",
    "print(np.round(sum(ing_frac)/len(ing_frac), 4))  "
   ]
  },
  {
   "cell_type": "code",
   "execution_count": 27,
   "metadata": {
    "ExecuteTime": {
     "end_time": "2021-05-19T19:16:54.855679Z",
     "start_time": "2021-05-19T19:16:45.930836Z"
    }
   },
   "outputs": [
    {
     "name": "stdout",
     "output_type": "stream",
     "text": [
      "0.6316\n",
      "0.2249\n",
      "0.3714\n",
      "0.4376\n"
     ]
    }
   ],
   "source": [
    "x = pkl.load( open( \"results/masking_0.8_all_layers.pkl\", \"rb\" ) )\n",
    "\n",
    "rouge_avg = avg_rouge(x[2],x[3])\n",
    "print(np.round(rouge_avg, 4))\n",
    "bleu_avg = get_avg_bleu(x[3],x[2])\n",
    "print(np.round(bleu_avg, 4))\n",
    "\n",
    "ing_frac = [get_number_of_ingredient_used(x[1][i],x[2][i]) for i in range(len(x[1]))]\n",
    "print(np.round(sum(ing_frac)/len(ing_frac), 4))  \n",
    "\n",
    "ing_frac = [get_number_of_ingredient_used2(x[1][i],x[3][i]) for i in range(len(x[1]))]\n",
    "print(np.round(sum(ing_frac)/len(ing_frac), 4))  "
   ]
  },
  {
   "cell_type": "code",
   "execution_count": 28,
   "metadata": {
    "ExecuteTime": {
     "end_time": "2021-05-19T19:17:01.560985Z",
     "start_time": "2021-05-19T19:16:54.857403Z"
    }
   },
   "outputs": [
    {
     "name": "stdout",
     "output_type": "stream",
     "text": [
      "0.5501\n",
      "0.163\n",
      "0.1831\n",
      "0.2541\n"
     ]
    }
   ],
   "source": [
    "x = pkl.load( open( \"results/masking_0.5_frozen_encoder.pkl\", \"rb\" ) )\n",
    "\n",
    "rouge_avg = avg_rouge(x[2],x[3])\n",
    "print(np.round(rouge_avg, 4))\n",
    "bleu_avg = get_avg_bleu(x[3],x[2])\n",
    "print(np.round(bleu_avg, 4))\n",
    "\n",
    "ing_frac = [get_number_of_ingredient_used(x[1][i],x[2][i]) for i in range(len(x[1]))]\n",
    "print(np.round(sum(ing_frac)/len(ing_frac), 4))  \n",
    "\n",
    "ing_frac = [get_number_of_ingredient_used2(x[1][i],x[3][i]) for i in range(len(x[1]))]\n",
    "print(np.round(sum(ing_frac)/len(ing_frac), 4))  "
   ]
  },
  {
   "cell_type": "code",
   "execution_count": 29,
   "metadata": {
    "ExecuteTime": {
     "end_time": "2021-05-19T19:17:12.693745Z",
     "start_time": "2021-05-19T19:17:01.563035Z"
    }
   },
   "outputs": [
    {
     "name": "stdout",
     "output_type": "stream",
     "text": [
      "0.6034\n",
      "0.1789\n",
      "0.3757\n",
      "0.4376\n"
     ]
    }
   ],
   "source": [
    "x = pkl.load( open( \"results/masking_0.8_frozen_encoder.pkl\", \"rb\" ) )\n",
    "\n",
    "rouge_avg = avg_rouge(x[2],x[3])\n",
    "print(np.round(rouge_avg, 4))\n",
    "bleu_avg = get_avg_bleu(x[3],x[2])\n",
    "print(np.round(bleu_avg, 4))\n",
    "\n",
    "ing_frac = [get_number_of_ingredient_used(x[1][i],x[2][i]) for i in range(len(x[1]))]\n",
    "print(np.round(sum(ing_frac)/len(ing_frac), 4))  \n",
    "\n",
    "ing_frac = [get_number_of_ingredient_used2(x[1][i],x[3][i]) for i in range(len(x[1]))]\n",
    "print(np.round(sum(ing_frac)/len(ing_frac), 4))  "
   ]
  }
 ],
 "metadata": {
  "kernelspec": {
   "display_name": "Python 3",
   "language": "python",
   "name": "python3"
  },
  "language_info": {
   "codemirror_mode": {
    "name": "ipython",
    "version": 3
   },
   "file_extension": ".py",
   "mimetype": "text/x-python",
   "name": "python",
   "nbconvert_exporter": "python",
   "pygments_lexer": "ipython3",
   "version": "3.8.3"
  }
 },
 "nbformat": 4,
 "nbformat_minor": 4
}
