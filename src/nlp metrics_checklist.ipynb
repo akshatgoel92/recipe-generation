{
 "cells": [
  {
   "cell_type": "code",
   "execution_count": 11,
   "metadata": {
    "ExecuteTime": {
     "end_time": "2021-05-19T19:26:41.034410Z",
     "start_time": "2021-05-19T19:26:39.880327Z"
    }
   },
   "outputs": [],
   "source": [
    "import numpy as np \n",
    "import pandas as pd\n",
    "import pickle as pkl\n",
    "import nltk\n",
    "from rouge import rouge_n_sentence_level"
   ]
  },
  {
   "cell_type": "code",
   "execution_count": 12,
   "metadata": {
    "ExecuteTime": {
     "end_time": "2021-05-19T19:26:41.040365Z",
     "start_time": "2021-05-19T19:26:41.035859Z"
    }
   },
   "outputs": [
    {
     "name": "stdout",
     "output_type": "stream",
     "text": [
      "ROUGE-2-R 0.75\n",
      "ROUGE-2-P 0.6\n",
      "ROUGE-2-F 0.6666666666666665\n"
     ]
    }
   ],
   "source": [
    "### TEST CASE\n",
    "\n",
    "summary_sentence = 'the capital of China is Beijing'.split()\n",
    "reference_sentence = 'Beijing  the capital of China'.split()\n",
    "\n",
    "# Calculate ROUGE-2.\n",
    "recall, precision, rouge = rouge_n_sentence_level(summary_sentence, reference_sentence, 2)\n",
    "print('ROUGE-2-R', recall)\n",
    "print('ROUGE-2-P', precision)\n",
    "print('ROUGE-2-F', rouge)"
   ]
  },
  {
   "cell_type": "code",
   "execution_count": 13,
   "metadata": {
    "ExecuteTime": {
     "end_time": "2021-05-19T19:26:42.710688Z",
     "start_time": "2021-05-19T19:26:41.518314Z"
    }
   },
   "outputs": [],
   "source": [
    "import json\n",
    "\n",
    "with open('half_data_generation.json', 'r') as f:\n",
    "    x1 = json.load(f)\n",
    "\n",
    "with open('80_percent_masked.json', 'r') as f:    \n",
    "    x2 = json.load(f)"
   ]
  },
  {
   "cell_type": "code",
   "execution_count": 27,
   "metadata": {
    "ExecuteTime": {
     "end_time": "2021-05-19T19:33:43.179380Z",
     "start_time": "2021-05-19T19:33:43.169914Z"
    }
   },
   "outputs": [],
   "source": [
    "def avg_rouge(list1,list2, checklist=False):\n",
    "    rouge_sum = 0\n",
    "    for i in range(len(list1)):\n",
    "        if checklist:\n",
    "            a = ' '.join(list1[i])\n",
    "            b = ' '.join(list2[i])\n",
    "            _ , _, rouge = rouge_n_sentence_level(a, b, 2)\n",
    "        else:\n",
    "            _,_,rouge = rouge_n_sentence_level(list1[i],list2[i], 2)\n",
    "        rouge_sum +=rouge\n",
    "    rouge_avg = rouge_sum/len(list1)\n",
    "    return rouge_avg\n",
    "\n",
    "def get_avg_bleu(list1,list2, checklist=False):\n",
    "    sumbleu = 0\n",
    "    for i in range(len(list1)):\n",
    "        hypothesis = list1[i].split(' ') if not checklist else list1[i]\n",
    "        reference = list2[i].split(' ') if not checklist else list2[i]\n",
    "        #the maximum is bigram, so assign the weight into 2 half.\n",
    "        BLEUscore = nltk.translate.bleu_score.sentence_bleu([reference], hypothesis, weights = (0.5, 0.5))\n",
    "        sumbleu+=BLEUscore\n",
    "    avgbleu = sumbleu/len(list1)\n",
    "    return avgbleu\n",
    "\n",
    "def get_number_of_ingredient_used(ingredient_list,text, checklist=False):\n",
    "    ing_count = 0\n",
    "    for ing in ingredient_list :\n",
    "        if ing in text :\n",
    "            ing_count+=1\n",
    "    ing_frac = ing_count/len(ingredient_list)\n",
    "    return ing_frac\n",
    "\n",
    "def get_number_of_ingredient_used2(ingredient_list,text, checklist=False):\n",
    "    ing_count = 0\n",
    "    total_words = 0\n",
    "    for ing in ingredient_list :\n",
    "        ings = ing.split(' ')\n",
    "        total_words +=len(ings) \n",
    "        for i in ings :\n",
    "            if i in text :\n",
    "                ing_count+=1\n",
    "                \n",
    "    ing_frac = ing_count/total_words\n",
    "    return ing_frac"
   ]
  },
  {
   "cell_type": "code",
   "execution_count": 30,
   "metadata": {
    "ExecuteTime": {
     "end_time": "2021-05-19T19:35:07.642683Z",
     "start_time": "2021-05-19T19:34:56.677358Z"
    }
   },
   "outputs": [
    {
     "name": "stdout",
     "output_type": "stream",
     "text": [
      "0.4222\n",
      "0.0808\n",
      "0.1651\n",
      "0.2376\n"
     ]
    }
   ],
   "source": [
    "x = []\n",
    "x.append(x1['goal'])\n",
    "x.append(x1['ingredients'])\n",
    "x.append(x1['generated_text'])\n",
    "x.append(x1['label'])\n",
    "\n",
    "rouge_avg = avg_rouge(x[2],x[3], checklist=True)\n",
    "print(np.round(rouge_avg, 4))\n",
    "bleu_avg = get_avg_bleu(x[3],x[2], checklist=True)\n",
    "print(np.round(bleu_avg, 4))\n",
    "\n",
    "ing_frac = [get_number_of_ingredient_used(x[1][i],x[2][i]) for i in range(len(x[1]))]\n",
    "print(np.round(sum(ing_frac)/len(ing_frac), 4))  \n",
    "\n",
    "ing_frac = [get_number_of_ingredient_used2(x[1][i],x[3][i]) for i in range(len(x[1]))]\n",
    "print(np.round(sum(ing_frac)/len(ing_frac), 4))  "
   ]
  },
  {
   "cell_type": "code",
   "execution_count": 31,
   "metadata": {
    "ExecuteTime": {
     "end_time": "2021-05-19T19:35:56.526937Z",
     "start_time": "2021-05-19T19:35:41.453246Z"
    },
    "scrolled": true
   },
   "outputs": [
    {
     "name": "stdout",
     "output_type": "stream",
     "text": [
      "0.4997\n",
      "0.1186\n",
      "0.2348\n",
      "0.4201\n"
     ]
    }
   ],
   "source": [
    "x = []\n",
    "x.append(x2['goal'])\n",
    "x.append(x2['ingredients'])\n",
    "x.append(x2['generated_text'])\n",
    "x.append(x2['label'])\n",
    "\n",
    "\n",
    "rouge_avg = avg_rouge(x[2],x[3], checklist=True)\n",
    "print(np.round(rouge_avg, 4))\n",
    "bleu_avg = get_avg_bleu(x[3],x[2], checklist=True)\n",
    "print(np.round(bleu_avg, 4))\n",
    "\n",
    "ing_frac = [get_number_of_ingredient_used(x[1][i],x[2][i]) for i in range(len(x[1]))]\n",
    "print(np.round(sum(ing_frac)/len(ing_frac), 4))  \n",
    "\n",
    "ing_frac = [get_number_of_ingredient_used2(x[1][i],x[3][i]) for i in range(len(x[1]))]\n",
    "print(np.round(sum(ing_frac)/len(ing_frac), 4))  "
   ]
  },
  {
   "cell_type": "code",
   "execution_count": null,
   "metadata": {},
   "outputs": [],
   "source": []
  }
 ],
 "metadata": {
  "kernelspec": {
   "display_name": "Python 3",
   "language": "python",
   "name": "python3"
  },
  "language_info": {
   "codemirror_mode": {
    "name": "ipython",
    "version": 3
   },
   "file_extension": ".py",
   "mimetype": "text/x-python",
   "name": "python",
   "nbconvert_exporter": "python",
   "pygments_lexer": "ipython3",
   "version": "3.8.3"
  }
 },
 "nbformat": 4,
 "nbformat_minor": 4
}
